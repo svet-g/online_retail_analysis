{
 "cells": [
  {
   "cell_type": "code",
   "execution_count": 2,
   "metadata": {},
   "outputs": [
    {
     "name": "stdout",
     "output_type": "stream",
     "text": [
      "Requirement already satisfied: ucimlrepo in ./venv/lib/python3.12/site-packages (0.0.7)\n",
      "Requirement already satisfied: pandas>=1.0.0 in ./venv/lib/python3.12/site-packages (from ucimlrepo) (2.2.3)\n",
      "Requirement already satisfied: certifi>=2020.12.5 in ./venv/lib/python3.12/site-packages (from ucimlrepo) (2025.1.31)\n",
      "Requirement already satisfied: numpy>=1.26.0 in ./venv/lib/python3.12/site-packages (from pandas>=1.0.0->ucimlrepo) (2.2.4)\n",
      "Requirement already satisfied: python-dateutil>=2.8.2 in ./venv/lib/python3.12/site-packages (from pandas>=1.0.0->ucimlrepo) (2.9.0.post0)\n",
      "Requirement already satisfied: pytz>=2020.1 in ./venv/lib/python3.12/site-packages (from pandas>=1.0.0->ucimlrepo) (2025.2)\n",
      "Requirement already satisfied: tzdata>=2022.7 in ./venv/lib/python3.12/site-packages (from pandas>=1.0.0->ucimlrepo) (2025.2)\n",
      "Requirement already satisfied: six>=1.5 in ./venv/lib/python3.12/site-packages (from python-dateutil>=2.8.2->pandas>=1.0.0->ucimlrepo) (1.17.0)\n",
      "\n",
      "\u001b[1m[\u001b[0m\u001b[34;49mnotice\u001b[0m\u001b[1;39;49m]\u001b[0m\u001b[39;49m A new release of pip is available: \u001b[0m\u001b[31;49m24.2\u001b[0m\u001b[39;49m -> \u001b[0m\u001b[32;49m25.0.1\u001b[0m\n",
      "\u001b[1m[\u001b[0m\u001b[34;49mnotice\u001b[0m\u001b[1;39;49m]\u001b[0m\u001b[39;49m To update, run: \u001b[0m\u001b[32;49mpip install --upgrade pip\u001b[0m\n",
      "Note: you may need to restart the kernel to use updated packages.\n"
     ]
    }
   ],
   "source": [
    "pip install ucimlrepo"
   ]
  },
  {
   "cell_type": "code",
   "execution_count": 3,
   "metadata": {},
   "outputs": [],
   "source": [
    "from ucimlrepo import fetch_ucirepo \n",
    "import pandas as pd\n",
    "  \n",
    "# fetch online retail dataset \n",
    "online_retail = fetch_ucirepo(id=352) \n"
   ]
  },
  {
   "cell_type": "code",
   "execution_count": 6,
   "metadata": {},
   "outputs": [
    {
     "name": "stdout",
     "output_type": "stream",
     "text": [
      "Total null values per column:\n",
      "InvoiceNo           0\n",
      "StockCode           0\n",
      "Description         0\n",
      "Quantity            0\n",
      "InvoiceDate         0\n",
      "UnitPrice           0\n",
      "CustomerID     131586\n",
      "SaleValue           0\n",
      "dtype: int64\n"
     ]
    }
   ],
   "source": [
    "# original df\n",
    "df = online_retail.data.original\n",
    "\n",
    "# drop country column\n",
    "df = df.drop(columns='Country')\n",
    "\n",
    "# get rid of any invoices with unit price <= 0 and stockcode doesn't start with a number or DCG as these are not sales but stock movements, expenses, etc\n",
    "df = df[df['UnitPrice'] > 0]\n",
    "df = df[df['StockCode'].str.contains('^[0-9]|DCG', regex = True)]\n",
    "\n",
    "# find most common description for each stock code\n",
    "df['Description'] = df['Description'].str.strip(' ')\n",
    "correct_descriptions = df.groupby('StockCode')['Description'].agg(pd.Series.mode)\n",
    "mapping = dict(correct_descriptions)\n",
    "\n",
    "#add to map items which do not have a most common used description\n",
    "mapping['35817P'] = 'PINK ACRYLIC JEWEL SNOWFLAKE'\n",
    "mapping['90014C'] = 'SILVER AND BLACK ORBIT NECKLACE'\n",
    "\n",
    "# use the map to update the description column\n",
    "df['Description'] = df['StockCode'].map(mapping)\n",
    "\n",
    "# strip description from unnecessary characters\n",
    "df['Description'] = df['Description'].str.strip('*')\n",
    "\n",
    "# add a new column for sale value\n",
    "df['SaleValue'] = df.UnitPrice * df.Quantity\n",
    "\n",
    "# check for nulls\n",
    "print('Total null values per column:')\n",
    "print(df.isnull().sum())\n",
    "\n",
    "# df[df['CustomerID'].isna()].to_csv('report.csv')\n",
    "df.to_csv('report.csv')"
   ]
  }
 ],
 "metadata": {
  "kernelspec": {
   "display_name": "venv",
   "language": "python",
   "name": "python3"
  },
  "language_info": {
   "codemirror_mode": {
    "name": "ipython",
    "version": 3
   },
   "file_extension": ".py",
   "mimetype": "text/x-python",
   "name": "python",
   "nbconvert_exporter": "python",
   "pygments_lexer": "ipython3",
   "version": "3.12.7"
  }
 },
 "nbformat": 4,
 "nbformat_minor": 2
}
